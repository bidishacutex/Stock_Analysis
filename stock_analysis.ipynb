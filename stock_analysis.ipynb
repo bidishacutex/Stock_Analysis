{
 "cells": [
  {
   "cell_type": "code",
   "execution_count": 7,
   "metadata": {},
   "outputs": [
    {
     "name": "stderr",
     "output_type": "stream",
     "text": [
      "[*********************100%***********************]  1 of 1 completed"
     ]
    },
    {
     "name": "stdout",
     "output_type": "stream",
     "text": [
      "Price             Close         High          Low         Open      Volume\n",
      "Ticker      RELIANCE.NS  RELIANCE.NS  RELIANCE.NS  RELIANCE.NS RELIANCE.NS\n",
      "Date                                                                      \n",
      "2025-01-28  1234.400024  1244.750000  1218.500000  1238.000000    10568025\n",
      "2025-01-29  1235.500000  1242.750000  1228.050049  1236.000000     5928156\n",
      "2025-01-30  1253.050049  1257.000000  1232.400024  1235.550049     9269259\n",
      "2025-01-31  1265.099976  1267.000000  1249.000000  1255.849976     6584612\n",
      "2025-02-01  1264.599976  1270.550049  1241.000000  1265.099976     7118038\n"
     ]
    },
    {
     "name": "stderr",
     "output_type": "stream",
     "text": [
      "\n"
     ]
    }
   ],
   "source": [
    "# importing the yfinance package\n",
    "import yfinance as yf\n",
    "\n",
    "# giving the start and end dates\n",
    "# startDate = '2015-03-01'\n",
    "# endDate = '2017-03-01'\n",
    "\n",
    "# setting the ticker value\n",
    "ticker = 'RELIANCE.NS'\n",
    "\n",
    "# downloading the data of the ticker value between\n",
    "# the start and end dates\n",
    "resultData = yf.download(ticker)\n",
    "\n",
    "# printing the last 5 rows of the data\n",
    "print(resultData.tail())\n"
   ]
  }
 ],
 "metadata": {
  "kernelspec": {
   "display_name": "Python 3",
   "language": "python",
   "name": "python3"
  },
  "language_info": {
   "codemirror_mode": {
    "name": "ipython",
    "version": 3
   },
   "file_extension": ".py",
   "mimetype": "text/x-python",
   "name": "python",
   "nbconvert_exporter": "python",
   "pygments_lexer": "ipython3",
   "version": "3.10.0"
  }
 },
 "nbformat": 4,
 "nbformat_minor": 2
}
