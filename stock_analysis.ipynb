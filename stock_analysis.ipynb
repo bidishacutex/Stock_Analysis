{
 "cells": [
  {
   "cell_type": "code",
   "execution_count": 1,
   "metadata": {},
   "outputs": [
    {
     "name": "stdout",
     "output_type": "stream",
     "text": [
      "YF.download() has changed argument auto_adjust default to True\n"
     ]
    },
    {
     "name": "stderr",
     "output_type": "stream",
     "text": [
      "[*********************100%***********************]  1 of 1 completed"
     ]
    },
    {
     "name": "stdout",
     "output_type": "stream",
     "text": [
      "Price           Close       High        Low       Open     Volume\n",
      "Ticker           AAPL       AAPL       AAPL       AAPL       AAPL\n",
      "Date                                                             \n",
      "2015-03-02  28.829372  29.095133  28.652945  28.865106  192386800\n",
      "2015-03-03  28.889677  28.925410  28.606050  28.800347  151265200\n",
      "2015-03-04  28.706532  28.934327  28.657403  28.831598  126665200\n",
      "2015-03-05  28.230858  28.753444  28.085694  28.715479  226068400\n",
      "2015-03-06  28.273281  28.891898  28.197351  28.675270  291368400\n",
      "Price            Close        High         Low        Open    Volume\n",
      "Ticker            AAPL        AAPL        AAPL        AAPL      AAPL\n",
      "Date                                                                \n",
      "2025-03-03  238.029999  244.029999  236.110001  241.789993  47184000\n",
      "2025-03-04  235.929993  240.070007  234.679993  237.710007  53798100\n",
      "2025-03-05  235.740005  236.550003  229.229996  235.419998  47227600\n",
      "2025-03-06  235.330002  237.860001  233.160004  234.440002  45170400\n",
      "2025-03-07  239.070007  241.369995  234.759995  235.110001  46245700\n"
     ]
    },
    {
     "name": "stderr",
     "output_type": "stream",
     "text": [
      "\n"
     ]
    }
   ],
   "source": [
    "# importing the yfinance package\n",
    "import yfinance as yf\n",
    "import datetime\n",
    "\n",
    "# giving the start and end dates\n",
    "startDate = '2015-03-01'\n",
    "endDate = datetime.date.today()\n",
    "\n",
    "# setting the ticker value\n",
    "ticker = 'AAPL'\n",
    "\n",
    "# downloading the data of the ticker value between\n",
    "# the start and end dates\n",
    "resultData = yf.download(ticker, start=startDate, end=endDate)\n",
    "\n",
    "# printing the last 5 rows of the data\n",
    "print(resultData.head())\n",
    "print(resultData.tail())\n"
   ]
  }
 ],
 "metadata": {
  "kernelspec": {
   "display_name": "Python 3",
   "language": "python",
   "name": "python3"
  },
  "language_info": {
   "codemirror_mode": {
    "name": "ipython",
    "version": 3
   },
   "file_extension": ".py",
   "mimetype": "text/x-python",
   "name": "python",
   "nbconvert_exporter": "python",
   "pygments_lexer": "ipython3",
   "version": "3.10.0"
  }
 },
 "nbformat": 4,
 "nbformat_minor": 2
}
